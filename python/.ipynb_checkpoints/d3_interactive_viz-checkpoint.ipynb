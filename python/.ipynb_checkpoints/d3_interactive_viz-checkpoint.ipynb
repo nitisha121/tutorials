{
 "cells": [
  {
   "cell_type": "code",
   "execution_count": null,
   "metadata": {},
   "outputs": [
    {
     "name": "stdout",
     "output_type": "stream",
     "text": [
      "\n",
      "Note: if you're in the IPython notebook, mpld3.show() is not the best command\n",
      "      to use. Consider using mpld3.display(), or mpld3.enable_notebook().\n",
      "      See more information at http://mpld3.github.io/quickstart.html .\n",
      "\n",
      "You must interrupt the kernel to end this command\n",
      "\n",
      "Serving to http://127.0.0.1:8891/    [Ctrl-C to exit]\n"
     ]
    },
    {
     "name": "stderr",
     "output_type": "stream",
     "text": [
      "127.0.0.1 - - [10/Apr/2019 20:14:24] \"GET / HTTP/1.1\" 200 -\n",
      "127.0.0.1 - - [10/Apr/2019 20:14:27] \"GET /d3.js HTTP/1.1\" 200 -\n",
      "127.0.0.1 - - [10/Apr/2019 20:14:27] \"GET /mpld3.js HTTP/1.1\" 200 -\n",
      "127.0.0.1 - - [10/Apr/2019 20:14:27] code 404, message Not Found\n",
      "127.0.0.1 - - [10/Apr/2019 20:14:27] \"GET /favicon.ico HTTP/1.1\" 404 -\n"
     ]
    }
   ],
   "source": [
    "import numpy as np\n",
    "import matplotlib.pyplot as plt\n",
    "import matplotlib as mpl\n",
    "\n",
    "import mpld3\n",
    "from mpld3 import plugins, utils\n",
    "\n",
    "\n",
    "class DragPlugin(plugins.PluginBase):\n",
    "    JAVASCRIPT = r\"\"\"\n",
    "    mpld3.register_plugin(\"drag\", DragPlugin);\n",
    "    DragPlugin.prototype = Object.create(mpld3.Plugin.prototype);\n",
    "    DragPlugin.prototype.constructor = DragPlugin;\n",
    "    DragPlugin.prototype.requiredProps = [\"id\"];\n",
    "    DragPlugin.prototype.defaultProps = {}\n",
    "    function DragPlugin(fig, props){\n",
    "        mpld3.Plugin.call(this, fig, props);\n",
    "        mpld3.insert_css(\"#\" + fig.figid + \" path.dragging\",\n",
    "                         {\"fill-opacity\": \"1.0 !important\",\n",
    "                          \"stroke-opacity\": \"1.0 !important\"});\n",
    "    };\n",
    "\n",
    "    DragPlugin.prototype.draw = function(){\n",
    "        var obj = mpld3.get_element(this.props.id);\n",
    "\n",
    "        var drag = d3.behavior.drag()\n",
    "            .origin(function(d) { return {x:obj.ax.x(d[0]),\n",
    "                                          y:obj.ax.y(d[1])}; })\n",
    "            .on(\"dragstart\", dragstarted)\n",
    "            .on(\"drag\", dragged)\n",
    "            .on(\"dragend\", dragended);\n",
    "\n",
    "        obj.elements()\n",
    "           .data(obj.offsets)\n",
    "           .style(\"cursor\", \"default\")\n",
    "           .call(drag);\n",
    "\n",
    "        function dragstarted(d) {\n",
    "          d3.event.sourceEvent.stopPropagation();\n",
    "          d3.select(this).classed(\"dragging\", true);\n",
    "        }\n",
    "\n",
    "        function dragged(d, i) {\n",
    "          d[0] = obj.ax.x.invert(d3.event.x);\n",
    "          d[1] = obj.ax.y.invert(d3.event.y);\n",
    "          d3.select(this)\n",
    "            .attr(\"transform\", \"translate(\" + [d3.event.x,d3.event.y] + \")\");\n",
    "        }\n",
    "\n",
    "        function dragended(d) {\n",
    "          d3.select(this).classed(\"dragging\", false);\n",
    "        }\n",
    "    }\n",
    "    \"\"\"\n",
    "\n",
    "    def __init__(self, points):\n",
    "        if isinstance(points, mpl.lines.Line2D):\n",
    "            suffix = \"pts\"\n",
    "        else:\n",
    "            suffix = None\n",
    "\n",
    "        self.dict_ = {\"type\": \"drag\",\n",
    "                      \"id\": utils.get_id(points, suffix)}\n",
    "\n",
    "\n",
    "fig, ax = plt.subplots()\n",
    "np.random.seed(0)\n",
    "points = ax.plot(np.random.normal(size=20),\n",
    "                 np.random.normal(size=20), 'or', alpha=0.5,\n",
    "                 markersize=50, markeredgewidth=1)\n",
    "ax.set_title(\"Click and Drag\", fontsize=18)\n",
    "\n",
    "plugins.connect(fig, DragPlugin(points[0]))\n",
    "\n",
    "mpld3.show()"
   ]
  }
 ],
 "metadata": {
  "kernelspec": {
   "display_name": "Python 3",
   "language": "python",
   "name": "python3"
  },
  "language_info": {
   "codemirror_mode": {
    "name": "ipython",
    "version": 3
   },
   "file_extension": ".py",
   "mimetype": "text/x-python",
   "name": "python",
   "nbconvert_exporter": "python",
   "pygments_lexer": "ipython3",
   "version": "3.7.1"
  }
 },
 "nbformat": 4,
 "nbformat_minor": 2
}
