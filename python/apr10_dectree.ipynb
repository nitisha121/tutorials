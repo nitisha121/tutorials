{
 "cells": [
  {
   "cell_type": "code",
   "execution_count": 1,
   "metadata": {},
   "outputs": [],
   "source": [
    "import pandas as pd\n",
    "\n",
    "# Load libraries\n",
    "from sklearn.tree import DecisionTreeClassifier # Import Decision Tree Classifier\n",
    "from sklearn.model_selection import train_test_split # Import train_test_split function\n",
    "from sklearn import metrics #Import scikit-learn metrics module for accuracy calculation"
   ]
  },
  {
   "cell_type": "code",
   "execution_count": 2,
   "metadata": {},
   "outputs": [],
   "source": [
    "na_dec = pd.read_pickle(\"./na_dec.pkl\")"
   ]
  },
  {
   "cell_type": "code",
   "execution_count": 3,
   "metadata": {},
   "outputs": [
    {
     "data": {
      "text/html": [
       "<div>\n",
       "<style scoped>\n",
       "    .dataframe tbody tr th:only-of-type {\n",
       "        vertical-align: middle;\n",
       "    }\n",
       "\n",
       "    .dataframe tbody tr th {\n",
       "        vertical-align: top;\n",
       "    }\n",
       "\n",
       "    .dataframe thead th {\n",
       "        text-align: right;\n",
       "    }\n",
       "</style>\n",
       "<table border=\"1\" class=\"dataframe\">\n",
       "  <thead>\n",
       "    <tr style=\"text-align: right;\">\n",
       "      <th></th>\n",
       "      <th>customr_num</th>\n",
       "      <th>post_pagename</th>\n",
       "      <th>phone15flg</th>\n",
       "      <th>web_cat</th>\n",
       "      <th>year</th>\n",
       "      <th>month</th>\n",
       "      <th>cust_prov</th>\n",
       "      <th>branch_count</th>\n",
       "      <th>web_count</th>\n",
       "      <th>phone_count</th>\n",
       "      <th>mob_count</th>\n",
       "      <th>branch_flg</th>\n",
       "      <th>web_flg</th>\n",
       "      <th>phone_flg</th>\n",
       "      <th>mob_flg</th>\n",
       "      <th>prov_cat</th>\n",
       "      <th>tenure</th>\n",
       "      <th>tenure_bin</th>\n",
       "      <th>event_tot</th>\n",
       "      <th>channel_tot</th>\n",
       "    </tr>\n",
       "  </thead>\n",
       "  <tbody>\n",
       "    <tr>\n",
       "      <th>3771</th>\n",
       "      <td>100139724</td>\n",
       "      <td>/easyweb.td.com/waw/ezw/payments/cndbp/easyweb...</td>\n",
       "      <td>1</td>\n",
       "      <td>4</td>\n",
       "      <td>2019</td>\n",
       "      <td>1</td>\n",
       "      <td>BC</td>\n",
       "      <td>0</td>\n",
       "      <td>2</td>\n",
       "      <td>4</td>\n",
       "      <td>0</td>\n",
       "      <td>0</td>\n",
       "      <td>1</td>\n",
       "      <td>1</td>\n",
       "      <td>0</td>\n",
       "      <td>2</td>\n",
       "      <td>38.0</td>\n",
       "      <td>31-39 years</td>\n",
       "      <td>6</td>\n",
       "      <td>2</td>\n",
       "    </tr>\n",
       "    <tr>\n",
       "      <th>4008</th>\n",
       "      <td>103910832</td>\n",
       "      <td>/easyweb.td.com/waw/ezw/easyweb/accountactivity</td>\n",
       "      <td>1</td>\n",
       "      <td>2</td>\n",
       "      <td>2019</td>\n",
       "      <td>1</td>\n",
       "      <td>ON</td>\n",
       "      <td>0</td>\n",
       "      <td>21</td>\n",
       "      <td>1</td>\n",
       "      <td>0</td>\n",
       "      <td>0</td>\n",
       "      <td>1</td>\n",
       "      <td>1</td>\n",
       "      <td>0</td>\n",
       "      <td>10</td>\n",
       "      <td>27.0</td>\n",
       "      <td>23-30 years</td>\n",
       "      <td>22</td>\n",
       "      <td>2</td>\n",
       "    </tr>\n",
       "    <tr>\n",
       "      <th>4020</th>\n",
       "      <td>104115339</td>\n",
       "      <td>/easyweb.td.com/waw/ezw/easyweb/accountactivity</td>\n",
       "      <td>1</td>\n",
       "      <td>2</td>\n",
       "      <td>2019</td>\n",
       "      <td>1</td>\n",
       "      <td>BC</td>\n",
       "      <td>3</td>\n",
       "      <td>0</td>\n",
       "      <td>1</td>\n",
       "      <td>28</td>\n",
       "      <td>1</td>\n",
       "      <td>0</td>\n",
       "      <td>1</td>\n",
       "      <td>1</td>\n",
       "      <td>2</td>\n",
       "      <td>28.0</td>\n",
       "      <td>23-30 years</td>\n",
       "      <td>32</td>\n",
       "      <td>3</td>\n",
       "    </tr>\n",
       "    <tr>\n",
       "      <th>4108</th>\n",
       "      <td>105371928</td>\n",
       "      <td>/easyweb.td.com/waw/ezw/payments/cndbp/easyweb...</td>\n",
       "      <td>1</td>\n",
       "      <td>4</td>\n",
       "      <td>2019</td>\n",
       "      <td>1</td>\n",
       "      <td>MB</td>\n",
       "      <td>1</td>\n",
       "      <td>0</td>\n",
       "      <td>1</td>\n",
       "      <td>0</td>\n",
       "      <td>1</td>\n",
       "      <td>0</td>\n",
       "      <td>1</td>\n",
       "      <td>0</td>\n",
       "      <td>3</td>\n",
       "      <td>27.0</td>\n",
       "      <td>23-30 years</td>\n",
       "      <td>2</td>\n",
       "      <td>2</td>\n",
       "    </tr>\n",
       "    <tr>\n",
       "      <th>4109</th>\n",
       "      <td>105391566</td>\n",
       "      <td>/easyweb.td.com/waw/ezw/easyweb/fundstransferc...</td>\n",
       "      <td>1</td>\n",
       "      <td>5</td>\n",
       "      <td>2019</td>\n",
       "      <td>1</td>\n",
       "      <td>PQ</td>\n",
       "      <td>1</td>\n",
       "      <td>0</td>\n",
       "      <td>3</td>\n",
       "      <td>0</td>\n",
       "      <td>1</td>\n",
       "      <td>0</td>\n",
       "      <td>1</td>\n",
       "      <td>0</td>\n",
       "      <td>9</td>\n",
       "      <td>27.0</td>\n",
       "      <td>23-30 years</td>\n",
       "      <td>4</td>\n",
       "      <td>2</td>\n",
       "    </tr>\n",
       "  </tbody>\n",
       "</table>\n",
       "</div>"
      ],
      "text/plain": [
       "     customr_num                                      post_pagename  \\\n",
       "3771   100139724  /easyweb.td.com/waw/ezw/payments/cndbp/easyweb...   \n",
       "4008   103910832    /easyweb.td.com/waw/ezw/easyweb/accountactivity   \n",
       "4020   104115339    /easyweb.td.com/waw/ezw/easyweb/accountactivity   \n",
       "4108   105371928  /easyweb.td.com/waw/ezw/payments/cndbp/easyweb...   \n",
       "4109   105391566  /easyweb.td.com/waw/ezw/easyweb/fundstransferc...   \n",
       "\n",
       "      phone15flg  web_cat  year  month cust_prov  branch_count  web_count  \\\n",
       "3771           1        4  2019      1        BC             0          2   \n",
       "4008           1        2  2019      1        ON             0         21   \n",
       "4020           1        2  2019      1        BC             3          0   \n",
       "4108           1        4  2019      1        MB             1          0   \n",
       "4109           1        5  2019      1        PQ             1          0   \n",
       "\n",
       "      phone_count  mob_count  branch_flg  web_flg  phone_flg  mob_flg  \\\n",
       "3771            4          0           0        1          1        0   \n",
       "4008            1          0           0        1          1        0   \n",
       "4020            1         28           1        0          1        1   \n",
       "4108            1          0           1        0          1        0   \n",
       "4109            3          0           1        0          1        0   \n",
       "\n",
       "      prov_cat  tenure   tenure_bin  event_tot  channel_tot  \n",
       "3771         2    38.0  31-39 years          6            2  \n",
       "4008        10    27.0  23-30 years         22            2  \n",
       "4020         2    28.0  23-30 years         32            3  \n",
       "4108         3    27.0  23-30 years          2            2  \n",
       "4109         9    27.0  23-30 years          4            2  "
      ]
     },
     "execution_count": 3,
     "metadata": {},
     "output_type": "execute_result"
    }
   ],
   "source": [
    "na_dec.head()"
   ]
  },
  {
   "cell_type": "code",
   "execution_count": 4,
   "metadata": {},
   "outputs": [
    {
     "data": {
      "text/plain": [
       "customr_num      0\n",
       "post_pagename    0\n",
       "phone15flg       0\n",
       "web_cat          0\n",
       "year             0\n",
       "month            0\n",
       "cust_prov        0\n",
       "branch_count     0\n",
       "web_count        0\n",
       "phone_count      0\n",
       "mob_count        0\n",
       "branch_flg       0\n",
       "web_flg          0\n",
       "phone_flg        0\n",
       "mob_flg          0\n",
       "prov_cat         0\n",
       "tenure           0\n",
       "tenure_bin       0\n",
       "event_tot        0\n",
       "channel_tot      0\n",
       "dtype: int64"
      ]
     },
     "execution_count": 4,
     "metadata": {},
     "output_type": "execute_result"
    }
   ],
   "source": [
    "na_dec.isna().sum()"
   ]
  },
  {
   "cell_type": "code",
   "execution_count": 5,
   "metadata": {},
   "outputs": [],
   "source": [
    "#split dataset in features and target variable\n",
    "feature_cols = ['web_cat', 'year', 'month', 'branch_count', 'web_count', \n",
    "                'phone_count', 'mob_count', 'branch_flg', 'web_flg', 'phone_flg', 'mob_flg', 'prov_cat', 'tenure', \n",
    "                'event_tot', 'channel_tot']\n",
    "X = na_dec[feature_cols] # Features\n",
    "y = na_dec.phone15flg # Target variable"
   ]
  },
  {
   "cell_type": "code",
   "execution_count": 6,
   "metadata": {},
   "outputs": [],
   "source": [
    "X_train, X_test, y_train, y_test = train_test_split(X, y, test_size=0.3, random_state=1) # 70% training and 30% test"
   ]
  },
  {
   "cell_type": "code",
   "execution_count": 7,
   "metadata": {},
   "outputs": [
    {
     "name": "stdout",
     "output_type": "stream",
     "text": [
      "Accuracy: 0.941448062856803\n"
     ]
    }
   ],
   "source": [
    "# Create Decision Tree classifer object\n",
    "clf = DecisionTreeClassifier(criterion = \"entropy\", random_state = 100,max_depth=6, min_samples_leaf=1)\n",
    "\n",
    "# Train Decision Tree Classifer\n",
    "clf = clf.fit(X_train,y_train)\n",
    "\n",
    "#Predict the response for test dataset\n",
    "y_pred = clf.predict(X_test)\n",
    "\n",
    "# Model Accuracy, how often is the classifier correct?\n",
    "print(\"Accuracy:\",metrics.accuracy_score(y_test, y_pred))"
   ]
  },
  {
   "cell_type": "code",
   "execution_count": 21,
   "metadata": {},
   "outputs": [
    {
     "data": {
      "text/plain": [
       "graphviz.files.Source"
      ]
     },
     "execution_count": 21,
     "metadata": {},
     "output_type": "execute_result"
    }
   ],
   "source": [
    "type(graphviz.Source(dtree_data))"
   ]
  },
  {
   "cell_type": "code",
   "execution_count": 33,
   "metadata": {},
   "outputs": [
    {
     "data": {
      "text/plain": [
       "0"
      ]
     },
     "execution_count": 33,
     "metadata": {},
     "output_type": "execute_result"
    }
   ],
   "source": [
    "# Visualize data\n",
    "# you could also create an output file by changing the out_file= parameter, but you'll still need a webtool \n",
    "# to create the tree visual\n",
    "from sklearn import tree\n",
    "import graphviz\n",
    "import pydotplus\n",
    "from os import system\n",
    "\n",
    "\n",
    "\n",
    "data_feature_cols = ['web_cat', 'year', 'month', 'branch_count', 'web_count', \n",
    "                'phone_count', 'mob_count', 'branch_flg', 'web_flg', 'phone_flg', 'mob_flg', 'prov_cat', 'tenure', \n",
    "                'event_tot', 'channel_tot']\n",
    "\n",
    "dotfile = open(\"./dtree2.dot\", 'w')\n",
    "tree.export_graphviz(clf,\n",
    "                                feature_names=data_feature_cols,\n",
    "                                out_file=dotfile,\n",
    "                                filled=True,\n",
    "                                rounded=True)\n",
    "dotfile.close()\n",
    "system(\"dot -Tpng ./dtree2.dot -o ./dtree2.png\")\n"
   ]
  },
  {
   "cell_type": "code",
   "execution_count": null,
   "metadata": {},
   "outputs": [],
   "source": []
  }
 ],
 "metadata": {
  "kernelspec": {
   "display_name": "Python 3",
   "language": "python",
   "name": "python3"
  },
  "language_info": {
   "codemirror_mode": {
    "name": "ipython",
    "version": 3
   },
   "file_extension": ".py",
   "mimetype": "text/x-python",
   "name": "python",
   "nbconvert_exporter": "python",
   "pygments_lexer": "ipython3",
   "version": "3.7.1"
  }
 },
 "nbformat": 4,
 "nbformat_minor": 2
}
